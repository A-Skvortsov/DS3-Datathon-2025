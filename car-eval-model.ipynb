{
 "cells": [
  {
   "cell_type": "code",
   "execution_count": 1,
   "metadata": {},
   "outputs": [],
   "source": [
    "import pandas as pd\n",
    "from sklearn.model_selection import train_test_split\n",
    "from sklearn.preprocessing import OrdinalEncoder\n",
    "TRAIN_PATH = \"car_eval_train.csv\"\n",
    "TEST_PATH = \"car_eval_test.csv\"\n",
    "\n",
    "\n",
    "df = pd.read_csv(TRAIN_PATH)\n",
    "# print(df)\n",
    "\n",
    "#ordered categories\n",
    "ctg_order = {\n",
    "    'buying': [['low', 'med', 'high', 'vhigh']],\n",
    "    'maint': [['low', 'med', 'high', 'vhigh']],\n",
    "    'doors': [['2', '3', '4', '5more']],\n",
    "    'persons': [['2', '4', 'more']],\n",
    "    'lug_boot': [['small', 'med', 'big']],\n",
    "    'safety': [['low', 'med', 'high']],\n",
    "    'class': [['unacc', 'acc', 'good', 'vgood']]\n",
    "}\n",
    "\n",
    "label_encoders = {}\n",
    "for col in df.columns:\n",
    "    oe = OrdinalEncoder(categories=ctg_order[col])\n",
    "    df[col] = oe.fit_transform(df[[col]])\n",
    "    label_encoders[col] = oe  # Store encoder for later use\n",
    "\n",
    "X = df.drop(columns=[\"class\"])\n",
    "y = df[\"class\"]\n",
    "\n",
    "X_train, X_test, y_train, y_test = train_test_split(X, y, test_size=0.2, random_state=42)"
   ]
  },
  {
   "cell_type": "code",
   "execution_count": 18,
   "metadata": {},
   "outputs": [
    {
     "name": "stdout",
     "output_type": "stream",
     "text": [
      "Model Accuracy: 0.9962\n"
     ]
    }
   ],
   "source": [
    "from sklearn.model_selection import train_test_split\n",
    "# from sklearn.linear_model import LogisticRegression\n",
    "# from sklearn.tree import DecisionTreeRegressor\n",
    "from sklearn.ensemble import HistGradientBoostingClassifier\n",
    "from sklearn.metrics import balanced_accuracy_score\n",
    "\n",
    "# random_state can be modified but submission file was generated based on model trained with random_state = 45\n",
    "X_train, X_test, y_train, y_test = train_test_split(X, y, test_size=0.2, random_state=45)\n",
    "\n",
    "model = HistGradientBoostingClassifier()\n",
    "model.fit(X_train, y_train)\n",
    "\n",
    "predictions = model.predict(X_test)\n",
    "# predictions\n",
    "accuracy = balanced_accuracy_score(y_test, predictions)\n",
    "print(f\"Model Accuracy: {accuracy:.4f}\")"
   ]
  },
  {
   "cell_type": "code",
   "execution_count": 9,
   "metadata": {},
   "outputs": [],
   "source": [
    "model.fit(X, y)\n",
    "#actual test data\n",
    "test_data = pd.read_csv(TEST_PATH)\n",
    "X_test = test_data.drop(columns=[\"id\"])\n",
    "for col in X_test.columns:\n",
    "    X_test[col] = label_encoders[col].fit_transform(X_test[[col]])\n",
    "\n",
    "test_data[\"output\"] = model.predict(X_test)\n",
    "\n",
    "test_data[[\"output\"]] = (label_encoders[\"class\"]\n",
    "                        .inverse_transform(test_data[[\"output\"]]))\n",
    "\n",
    "output = test_data[[\"id\", \"output\"]]\n",
    "output.to_csv(\"car_eval_submission.csv\", index=False)"
   ]
  }
 ],
 "metadata": {
  "kaggle": {
   "accelerator": "none",
   "dataSources": [
    {
     "databundleVersionId": 11123519,
     "sourceId": 92988,
     "sourceType": "competition"
    }
   ],
   "dockerImageVersionId": 30886,
   "isGpuEnabled": false,
   "isInternetEnabled": false,
   "language": "python",
   "sourceType": "notebook"
  },
  "kernelspec": {
   "display_name": "Python 3 (ipykernel)",
   "language": "python",
   "name": "python3"
  },
  "language_info": {
   "codemirror_mode": {
    "name": "ipython",
    "version": 3
   },
   "file_extension": ".py",
   "mimetype": "text/x-python",
   "name": "python",
   "nbconvert_exporter": "python",
   "pygments_lexer": "ipython3",
   "version": "3.12.4"
  }
 },
 "nbformat": 4,
 "nbformat_minor": 4
}
